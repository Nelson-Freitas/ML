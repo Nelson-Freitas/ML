{
 "cells": [
  {
   "cell_type": "code",
   "execution_count": 1,
   "metadata": {},
   "outputs": [],
   "source": [
    "#Bibliotecas utilizadas \n",
    "\n",
    "import pandas as pd \n",
    "from sklearn.model_selection import train_test_split  \n",
    "from sklearn.neighbors import KNeighborsClassifier \n",
    "from sklearn import preprocessing \n",
    "#from sklearn.metrics import confusion_matrix \n",
    "from sklearn.metrics import f1_score \n",
    "from sklearn.metrics import accuracy_score \n",
    "from sklearn.metrics import classification_report, confusion_matrix, accuracy_score \n",
    "\n",
    "from sklearn.neural_network import MLPClassifier\n",
    "from sklearn.preprocessing import MinMaxScaler\n",
    "from sklearn.preprocessing import LabelEncoder  \n",
    "\n",
    "from sklearn.model_selection import cross_val_score"
   ]
  },
  {
   "cell_type": "code",
   "execution_count": 2,
   "metadata": {},
   "outputs": [],
   "source": [
    "#carregando dados \n",
    "covid_alagoas = pd.read_excel(\"covid_alagoas.xlsx\")  "
   ]
  },
  {
   "cell_type": "code",
   "execution_count": 3,
   "metadata": {},
   "outputs": [
    {
     "data": {
      "text/html": [
       "<div>\n",
       "<style scoped>\n",
       "    .dataframe tbody tr th:only-of-type {\n",
       "        vertical-align: middle;\n",
       "    }\n",
       "\n",
       "    .dataframe tbody tr th {\n",
       "        vertical-align: top;\n",
       "    }\n",
       "\n",
       "    .dataframe thead th {\n",
       "        text-align: right;\n",
       "    }\n",
       "</style>\n",
       "<table border=\"1\" class=\"dataframe\">\n",
       "  <thead>\n",
       "    <tr style=\"text-align: right;\">\n",
       "      <th></th>\n",
       "      <th>Unnamed: 0</th>\n",
       "      <th>Data de atendimento no Serviço</th>\n",
       "      <th>IDADE</th>\n",
       "      <th>SEXO</th>\n",
       "      <th>MUNICÍPIO DE RESIDÊNCIA</th>\n",
       "      <th>classificacao</th>\n",
       "      <th>Comorbidades</th>\n",
       "      <th>Situação do paciente confirmado (UTI, isolamento domiciliar, enfermaria) ?</th>\n",
       "      <th>Data do Óbito (Caso haja)</th>\n",
       "      <th>Data de Confirmação do Exame</th>\n",
       "    </tr>\n",
       "  </thead>\n",
       "  <tbody>\n",
       "    <tr>\n",
       "      <th>0</th>\n",
       "      <td>0</td>\n",
       "      <td>2020-03-26</td>\n",
       "      <td>1</td>\n",
       "      <td>F</td>\n",
       "      <td>MACEIÓ</td>\n",
       "      <td>CONFIRMADO</td>\n",
       "      <td>SEM COMORBIDADE</td>\n",
       "      <td>RECUPERADO</td>\n",
       "      <td>NaN</td>\n",
       "      <td>2020-04-13</td>\n",
       "    </tr>\n",
       "    <tr>\n",
       "      <th>1</th>\n",
       "      <td>1</td>\n",
       "      <td>2020-03-23</td>\n",
       "      <td>38</td>\n",
       "      <td>M</td>\n",
       "      <td>MACEIÓ</td>\n",
       "      <td>CONFIRMADO</td>\n",
       "      <td>DOENÇA PULMONAR CRÔNICA</td>\n",
       "      <td>RECUPERADO</td>\n",
       "      <td>NaN</td>\n",
       "      <td>2020-04-14</td>\n",
       "    </tr>\n",
       "    <tr>\n",
       "      <th>2</th>\n",
       "      <td>2</td>\n",
       "      <td>2020-04-06</td>\n",
       "      <td>35</td>\n",
       "      <td>M</td>\n",
       "      <td>MACEIÓ</td>\n",
       "      <td>CONFIRMADO</td>\n",
       "      <td>NaN</td>\n",
       "      <td>RECUPERADO</td>\n",
       "      <td>NaN</td>\n",
       "      <td>2020-04-14</td>\n",
       "    </tr>\n",
       "    <tr>\n",
       "      <th>3</th>\n",
       "      <td>3</td>\n",
       "      <td>2020-04-11</td>\n",
       "      <td>57</td>\n",
       "      <td>M</td>\n",
       "      <td>MACEIÓ</td>\n",
       "      <td>CONFIRMADO</td>\n",
       "      <td>NaN</td>\n",
       "      <td>RECUPERADO</td>\n",
       "      <td>NaN</td>\n",
       "      <td>2020-04-14</td>\n",
       "    </tr>\n",
       "    <tr>\n",
       "      <th>4</th>\n",
       "      <td>4</td>\n",
       "      <td>2020-04-27</td>\n",
       "      <td>60</td>\n",
       "      <td>M</td>\n",
       "      <td>MACEIÓ</td>\n",
       "      <td>CONFIRMADO</td>\n",
       "      <td>NaN</td>\n",
       "      <td>RECUPERADO</td>\n",
       "      <td>NaN</td>\n",
       "      <td>2020-04-14</td>\n",
       "    </tr>\n",
       "  </tbody>\n",
       "</table>\n",
       "</div>"
      ],
      "text/plain": [
       "   Unnamed: 0 Data de atendimento no Serviço  IDADE SEXO  \\\n",
       "0           0                     2020-03-26      1    F   \n",
       "1           1                     2020-03-23     38    M   \n",
       "2           2                     2020-04-06     35    M   \n",
       "3           3                     2020-04-11     57    M   \n",
       "4           4                     2020-04-27     60    M   \n",
       "\n",
       "  MUNICÍPIO DE RESIDÊNCIA classificacao              Comorbidades  \\\n",
       "0                  MACEIÓ     CONFIRMADO          SEM COMORBIDADE   \n",
       "1                  MACEIÓ     CONFIRMADO  DOENÇA PULMONAR CRÔNICA   \n",
       "2                  MACEIÓ     CONFIRMADO                      NaN   \n",
       "3                  MACEIÓ     CONFIRMADO                      NaN   \n",
       "4                  MACEIÓ     CONFIRMADO                      NaN   \n",
       "\n",
       "  Situação do paciente confirmado (UTI, isolamento domiciliar, enfermaria) ?  \\\n",
       "0                                         RECUPERADO                           \n",
       "1                                         RECUPERADO                           \n",
       "2                                         RECUPERADO                           \n",
       "3                                         RECUPERADO                           \n",
       "4                                         RECUPERADO                           \n",
       "\n",
       "   Data do Óbito (Caso haja) Data de Confirmação do Exame  \n",
       "0                        NaN                   2020-04-13  \n",
       "1                        NaN                   2020-04-14  \n",
       "2                        NaN                   2020-04-14  \n",
       "3                        NaN                   2020-04-14  \n",
       "4                        NaN                   2020-04-14  "
      ]
     },
     "execution_count": 3,
     "metadata": {},
     "output_type": "execute_result"
    }
   ],
   "source": [
    "#Exibição do dataset carregado\n",
    "covid_alagoas.head() "
   ]
  },
  {
   "cell_type": "markdown",
   "metadata": {},
   "source": [
    "## Tratamento dos dados / Pré processamento"
   ]
  },
  {
   "cell_type": "code",
   "execution_count": 4,
   "metadata": {},
   "outputs": [],
   "source": [
    "# excluindo colunas que não serão utilizadas \n",
    "del covid_alagoas[\"Unnamed: 0\"] \n",
    "del covid_alagoas[\"Data do Óbito (Caso haja)\"] \n",
    "del covid_alagoas[\"Data de Confirmação do Exame\"]   \n",
    "del covid_alagoas[\"Data de atendimento no Serviço\"]   \n",
    "\n",
    "# Renomeando colunas\n",
    "covid_alagoas = covid_alagoas.rename(columns={'Situação do paciente confirmado (UTI, isolamento domiciliar, enfermaria) ?': 'Situacao'}) \n",
    "covid_alagoas = covid_alagoas.rename(columns={'MUNICÍPIO DE RESIDÊNCIA': 'Municipio'})  \n",
    "\n",
    "#Onde tem NaN na coluna de comorbidades está sendo substituído por sem comorbidade\n",
    "covid_alagoas['Comorbidades'] = covid_alagoas.Comorbidades.fillna('SEM COMORBIDADE')\n",
    "\n",
    "# A coluna de SEXO está sendo rotulada como 1 para masculina e 2 para feminino\n",
    "covid_alagoas.loc[covid_alagoas.SEXO == 'M','SEXO'] = 1 \n",
    "covid_alagoas.loc[covid_alagoas.SEXO == 'F','SEXO'] = 2 \n",
    "covid_alagoas.loc[covid_alagoas.SEXO == 'Feminino','SEXO'] = 2 \n",
    "covid_alagoas.loc[covid_alagoas.SEXO == 'f','SEXO'] = 2 \n",
    "covid_alagoas.loc[covid_alagoas.SEXO == ' F','SEXO'] = 2\n",
    "\n"
   ]
  },
  {
   "cell_type": "code",
   "execution_count": 5,
   "metadata": {},
   "outputs": [
    {
     "data": {
      "text/html": [
       "<div>\n",
       "<style scoped>\n",
       "    .dataframe tbody tr th:only-of-type {\n",
       "        vertical-align: middle;\n",
       "    }\n",
       "\n",
       "    .dataframe tbody tr th {\n",
       "        vertical-align: top;\n",
       "    }\n",
       "\n",
       "    .dataframe thead th {\n",
       "        text-align: right;\n",
       "    }\n",
       "</style>\n",
       "<table border=\"1\" class=\"dataframe\">\n",
       "  <thead>\n",
       "    <tr style=\"text-align: right;\">\n",
       "      <th></th>\n",
       "      <th>IDADE</th>\n",
       "      <th>SEXO</th>\n",
       "      <th>Municipio</th>\n",
       "      <th>classificacao</th>\n",
       "      <th>Comorbidades</th>\n",
       "      <th>Situacao</th>\n",
       "    </tr>\n",
       "  </thead>\n",
       "  <tbody>\n",
       "    <tr>\n",
       "      <th>0</th>\n",
       "      <td>1</td>\n",
       "      <td>2</td>\n",
       "      <td>MACEIÓ</td>\n",
       "      <td>CONFIRMADO</td>\n",
       "      <td>SEM COMORBIDADE</td>\n",
       "      <td>RECUPERADO</td>\n",
       "    </tr>\n",
       "    <tr>\n",
       "      <th>1</th>\n",
       "      <td>38</td>\n",
       "      <td>1</td>\n",
       "      <td>MACEIÓ</td>\n",
       "      <td>CONFIRMADO</td>\n",
       "      <td>DOENÇA PULMONAR CRÔNICA</td>\n",
       "      <td>RECUPERADO</td>\n",
       "    </tr>\n",
       "    <tr>\n",
       "      <th>2</th>\n",
       "      <td>35</td>\n",
       "      <td>1</td>\n",
       "      <td>MACEIÓ</td>\n",
       "      <td>CONFIRMADO</td>\n",
       "      <td>SEM COMORBIDADE</td>\n",
       "      <td>RECUPERADO</td>\n",
       "    </tr>\n",
       "    <tr>\n",
       "      <th>3</th>\n",
       "      <td>57</td>\n",
       "      <td>1</td>\n",
       "      <td>MACEIÓ</td>\n",
       "      <td>CONFIRMADO</td>\n",
       "      <td>SEM COMORBIDADE</td>\n",
       "      <td>RECUPERADO</td>\n",
       "    </tr>\n",
       "    <tr>\n",
       "      <th>4</th>\n",
       "      <td>60</td>\n",
       "      <td>1</td>\n",
       "      <td>MACEIÓ</td>\n",
       "      <td>CONFIRMADO</td>\n",
       "      <td>SEM COMORBIDADE</td>\n",
       "      <td>RECUPERADO</td>\n",
       "    </tr>\n",
       "  </tbody>\n",
       "</table>\n",
       "</div>"
      ],
      "text/plain": [
       "   IDADE SEXO Municipio classificacao              Comorbidades    Situacao\n",
       "0      1    2    MACEIÓ     CONFIRMADO          SEM COMORBIDADE  RECUPERADO\n",
       "1     38    1    MACEIÓ     CONFIRMADO  DOENÇA PULMONAR CRÔNICA  RECUPERADO\n",
       "2     35    1    MACEIÓ     CONFIRMADO          SEM COMORBIDADE  RECUPERADO\n",
       "3     57    1    MACEIÓ     CONFIRMADO          SEM COMORBIDADE  RECUPERADO\n",
       "4     60    1    MACEIÓ     CONFIRMADO          SEM COMORBIDADE  RECUPERADO"
      ]
     },
     "execution_count": 5,
     "metadata": {},
     "output_type": "execute_result"
    }
   ],
   "source": [
    "covid_alagoas.head() # Exibindo dataframe após tratamentos"
   ]
  },
  {
   "cell_type": "code",
   "execution_count": 6,
   "metadata": {},
   "outputs": [
    {
     "data": {
      "text/html": [
       "<div>\n",
       "<style scoped>\n",
       "    .dataframe tbody tr th:only-of-type {\n",
       "        vertical-align: middle;\n",
       "    }\n",
       "\n",
       "    .dataframe tbody tr th {\n",
       "        vertical-align: top;\n",
       "    }\n",
       "\n",
       "    .dataframe thead th {\n",
       "        text-align: right;\n",
       "    }\n",
       "</style>\n",
       "<table border=\"1\" class=\"dataframe\">\n",
       "  <thead>\n",
       "    <tr style=\"text-align: right;\">\n",
       "      <th></th>\n",
       "      <th>IDADE</th>\n",
       "      <th>SEXO</th>\n",
       "      <th>Municipio</th>\n",
       "      <th>classificacao</th>\n",
       "      <th>Comorbidades</th>\n",
       "      <th>Situacao</th>\n",
       "      <th>rotulo_comorbidades</th>\n",
       "    </tr>\n",
       "  </thead>\n",
       "  <tbody>\n",
       "    <tr>\n",
       "      <th>0</th>\n",
       "      <td>1</td>\n",
       "      <td>2</td>\n",
       "      <td>MACEIÓ</td>\n",
       "      <td>CONFIRMADO</td>\n",
       "      <td>SEM COMORBIDADE</td>\n",
       "      <td>RECUPERADO</td>\n",
       "      <td>365</td>\n",
       "    </tr>\n",
       "    <tr>\n",
       "      <th>1</th>\n",
       "      <td>38</td>\n",
       "      <td>1</td>\n",
       "      <td>MACEIÓ</td>\n",
       "      <td>CONFIRMADO</td>\n",
       "      <td>DOENÇA PULMONAR CRÔNICA</td>\n",
       "      <td>RECUPERADO</td>\n",
       "      <td>224</td>\n",
       "    </tr>\n",
       "    <tr>\n",
       "      <th>2</th>\n",
       "      <td>35</td>\n",
       "      <td>1</td>\n",
       "      <td>MACEIÓ</td>\n",
       "      <td>CONFIRMADO</td>\n",
       "      <td>SEM COMORBIDADE</td>\n",
       "      <td>RECUPERADO</td>\n",
       "      <td>365</td>\n",
       "    </tr>\n",
       "    <tr>\n",
       "      <th>3</th>\n",
       "      <td>57</td>\n",
       "      <td>1</td>\n",
       "      <td>MACEIÓ</td>\n",
       "      <td>CONFIRMADO</td>\n",
       "      <td>SEM COMORBIDADE</td>\n",
       "      <td>RECUPERADO</td>\n",
       "      <td>365</td>\n",
       "    </tr>\n",
       "    <tr>\n",
       "      <th>4</th>\n",
       "      <td>60</td>\n",
       "      <td>1</td>\n",
       "      <td>MACEIÓ</td>\n",
       "      <td>CONFIRMADO</td>\n",
       "      <td>SEM COMORBIDADE</td>\n",
       "      <td>RECUPERADO</td>\n",
       "      <td>365</td>\n",
       "    </tr>\n",
       "  </tbody>\n",
       "</table>\n",
       "</div>"
      ],
      "text/plain": [
       "   IDADE SEXO Municipio classificacao              Comorbidades    Situacao  \\\n",
       "0      1    2    MACEIÓ     CONFIRMADO          SEM COMORBIDADE  RECUPERADO   \n",
       "1     38    1    MACEIÓ     CONFIRMADO  DOENÇA PULMONAR CRÔNICA  RECUPERADO   \n",
       "2     35    1    MACEIÓ     CONFIRMADO          SEM COMORBIDADE  RECUPERADO   \n",
       "3     57    1    MACEIÓ     CONFIRMADO          SEM COMORBIDADE  RECUPERADO   \n",
       "4     60    1    MACEIÓ     CONFIRMADO          SEM COMORBIDADE  RECUPERADO   \n",
       "\n",
       "   rotulo_comorbidades  \n",
       "0                  365  \n",
       "1                  224  \n",
       "2                  365  \n",
       "3                  365  \n",
       "4                  365  "
      ]
     },
     "execution_count": 6,
     "metadata": {},
     "output_type": "execute_result"
    }
   ],
   "source": [
    "#Rotulando comorbidades  \n",
    "\n",
    "#Aqui a coluna de Comorbidades será rotulada com um valor único que se encontra na coluna rotulo_comorbidades\n",
    "\n",
    "le = preprocessing.LabelEncoder() \n",
    "#le.fit_transform(covid_maceio['Comorbidades'].astype(str))\n",
    "rotulo_comorbidades = le.fit_transform(covid_alagoas['Comorbidades'].astype(str))  \n",
    "#covid_arapiraca['Comorbidades'] = le.fit_transform(covid_arapiraca['Comorbidades'].astype(str))   \n",
    "\n",
    "rotulo_comorbidades.reshape(-1,1) #dimensionando array\n",
    "# O array criado de rótulo de comorbidades será adicionado ao dataset \n",
    "covid_alagoas.loc[:,'rotulo_comorbidades'] = rotulo_comorbidades \n",
    "\n",
    "#exibindo dataframe após modificações\n",
    "covid_alagoas.head()"
   ]
  },
  {
   "cell_type": "markdown",
   "metadata": {},
   "source": [
    "### Selecionando os datasets"
   ]
  },
  {
   "cell_type": "code",
   "execution_count": 7,
   "metadata": {},
   "outputs": [],
   "source": [
    "#Aqui está sendo filtrado os dados referentes ao município de Maceió e Arapiraca \n",
    "\n",
    "covid_maceio = covid_alagoas.loc[covid_alagoas['Municipio'] == \"MACEIÓ\"] \n",
    "covid_arapiraca = covid_alagoas.loc[covid_alagoas['Municipio'] == \"ARAPIRACA\"]"
   ]
  },
  {
   "cell_type": "code",
   "execution_count": 8,
   "metadata": {},
   "outputs": [
    {
     "name": "stdout",
     "output_type": "stream",
     "text": [
      "Tamanho dos dataframes: 30901 88797\n"
     ]
    }
   ],
   "source": [
    "print(\"Tamanho dos dataframes:\",len(covid_arapiraca),len(covid_maceio)) "
   ]
  },
  {
   "cell_type": "markdown",
   "metadata": {},
   "source": [
    "### Como há muitos mais dados de covid de Maceió em relação a Arapiraca, será selecionado uma amostra de mesmo tamanho de Arapiraca"
   ]
  },
  {
   "cell_type": "code",
   "execution_count": 9,
   "metadata": {},
   "outputs": [
    {
     "name": "stdout",
     "output_type": "stream",
     "text": [
      "Tamanho dos dataframes agora: 30901 30901\n"
     ]
    }
   ],
   "source": [
    "#Extraindo amostra de dados\n",
    "covid_maceio = covid_maceio.sample(30901)  \n",
    "\n",
    "print(\"Tamanho dos dataframes agora:\", len(covid_arapiraca),len(covid_maceio))"
   ]
  },
  {
   "cell_type": "markdown",
   "metadata": {},
   "source": [
    "### Selecionando dados de treino e teste"
   ]
  },
  {
   "cell_type": "code",
   "execution_count": 10,
   "metadata": {},
   "outputs": [],
   "source": [
    "#selecionando as colunas que serão utilizadas para treinar e testar o modelo  \n",
    "\n",
    "#para o dataset de Maceió \n",
    "X_maceio = covid_maceio[['IDADE','SEXO','rotulo_comorbidades']]\n",
    "y_maceio = covid_maceio['Situacao']  \n",
    "\n",
    "#para o dataset de Arapiraca \n",
    "X_arapiraca = covid_arapiraca[['IDADE','SEXO','rotulo_comorbidades']]\n",
    "y_arapiraca = covid_arapiraca['Situacao'] "
   ]
  },
  {
   "cell_type": "code",
   "execution_count": 11,
   "metadata": {},
   "outputs": [],
   "source": [
    "# 70% doa dados serão usados para treino e 30% para teste \n",
    "\n",
    "#  P/ Maceió\n",
    "X_train_maceio, X_test_maceio, y_train_maceio, y_test_maceio = train_test_split(X_maceio, y_maceio,test_size=0.3, random_state=0)  \n",
    "\n",
    "# p/ Arapiraca  \n",
    "X_train_arapiraca, X_test_arapiraca, y_train_arapiraca, y_test_arapiraca = train_test_split(X_arapiraca, y_arapiraca,test_size=0.3, random_state=0)  \n"
   ]
  },
  {
   "cell_type": "code",
   "execution_count": 12,
   "metadata": {},
   "outputs": [],
   "source": [
    "knn = KNeighborsClassifier()  # Selecionando quantidade de vizinhos"
   ]
  },
  {
   "cell_type": "code",
   "execution_count": 13,
   "metadata": {},
   "outputs": [],
   "source": [
    "maceio = knn.fit(X_train_maceio, y_train_maceio)  \n",
    "arapiraca = knn.fit(X_train_arapiraca, y_train_arapiraca) "
   ]
  },
  {
   "cell_type": "code",
   "execution_count": 14,
   "metadata": {},
   "outputs": [],
   "source": [
    "# Estimando acurácia\n",
    "\n",
    "#acuracia_maceio = knn.score(X_test_maceio, y_test_maceio) \n",
    "#acuracia_arapiraca = knn.score(X_test_arapiraca, y_test_arapiraca) \n",
    "\n",
    "#print(\"Acurácia para Maceió: \", acuracia_maceio) \n",
    "#print(\"Acurácia para Arapiraca: \", acuracia_arapiraca)"
   ]
  },
  {
   "cell_type": "code",
   "execution_count": 15,
   "metadata": {},
   "outputs": [
    {
     "data": {
      "text/plain": [
       "{'RECUPERADO': 'RECUPERADO',\n",
       " 'ÓBITO': 'ÓBITO',\n",
       " 'HOSPITALIZADO': 'HOSPITALIZADO',\n",
       " 'Hospitalizado': 'Hospitalizado',\n",
       " 'ÓBITO POR OUTRAS CAUSAS': 'ÓBITO POR OUTRAS CAUSAS',\n",
       " 'ISOLAMENTO DOMICILIAR': 'ISOLAMENTO DOMICILIAR',\n",
       " 'óbITO': 'óbITO'}"
      ]
     },
     "execution_count": 15,
     "metadata": {},
     "output_type": "execute_result"
    }
   ],
   "source": [
    "# criando dicionário (rotulando) as situações para ser utilizada na predição   \n",
    "rotulo = dict(zip(covid_alagoas.Situacao.unique(), covid_alagoas.Situacao.unique()))   \n",
    "rotulo"
   ]
  },
  {
   "cell_type": "code",
   "execution_count": 16,
   "metadata": {},
   "outputs": [],
   "source": [
    "#Predição \n",
    "\n",
    "prediction_maceio = knn.predict(X_test_maceio) \n",
    "prediction_arapiraca = knn.predict(X_test_arapiraca)\n",
    "#print(\"Situação do paciente: \", rotulo[prediction[0]])"
   ]
  },
  {
   "cell_type": "markdown",
   "metadata": {},
   "source": [
    "## Avaliação do modelo para Maceió"
   ]
  },
  {
   "cell_type": "code",
   "execution_count": 17,
   "metadata": {},
   "outputs": [],
   "source": [
    "#accuracy_score(y_test_maceio,prediction_maceio)"
   ]
  },
  {
   "cell_type": "code",
   "execution_count": 18,
   "metadata": {},
   "outputs": [
    {
     "name": "stdout",
     "output_type": "stream",
     "text": [
      "Predito                  HOSPITALIZADO  ISOLAMENTO DOMICILIAR  RECUPERADO  \\\n",
      "Real                                                                        \n",
      "HOSPITALIZADO                        5                    317          44   \n",
      "ISOLAMENTO DOMICILIAR               16                   3911         726   \n",
      "RECUPERADO                          11                   3275         686   \n",
      "ÓBITO                                0                     35          11   \n",
      "ÓBITO POR OUTRAS CAUSAS              0                      1           0   \n",
      "\n",
      "Predito                  ÓBITO  \n",
      "Real                            \n",
      "HOSPITALIZADO                0  \n",
      "ISOLAMENTO DOMICILIAR        0  \n",
      "RECUPERADO                  10  \n",
      "ÓBITO                      221  \n",
      "ÓBITO POR OUTRAS CAUSAS      2  \n"
     ]
    }
   ],
   "source": [
    "#matriz de confusão para Maceió \n",
    "print (pd.crosstab(y_test_maceio, prediction_maceio, rownames=['Real'], colnames=['Predito'], margins= False))"
   ]
  },
  {
   "cell_type": "code",
   "execution_count": 19,
   "metadata": {},
   "outputs": [
    {
     "name": "stderr",
     "output_type": "stream",
     "text": [
      "C:\\Users\\Nelson\\anaconda3\\lib\\site-packages\\sklearn\\metrics\\_classification.py:1248: UndefinedMetricWarning: Precision and F-score are ill-defined and being set to 0.0 in labels with no predicted samples. Use `zero_division` parameter to control this behavior.\n",
      "  _warn_prf(average, modifier, msg_start, len(result))\n",
      "C:\\Users\\Nelson\\anaconda3\\lib\\site-packages\\sklearn\\metrics\\_classification.py:1248: UndefinedMetricWarning: Precision and F-score are ill-defined and being set to 0.0 in labels with no predicted samples. Use `zero_division` parameter to control this behavior.\n",
      "  _warn_prf(average, modifier, msg_start, len(result))\n"
     ]
    },
    {
     "name": "stdout",
     "output_type": "stream",
     "text": [
      "Relatório de classificação para Arapir: \n",
      "                          precision    recall  f1-score   support\n",
      "\n",
      "          HOSPITALIZADO       0.16      0.01      0.03       366\n",
      "  ISOLAMENTO DOMICILIAR       0.52      0.84      0.64      4653\n",
      "             RECUPERADO       0.47      0.17      0.25      3982\n",
      "                  ÓBITO       0.95      0.83      0.88       267\n",
      "ÓBITO POR OUTRAS CAUSAS       0.00      0.00      0.00         3\n",
      "\n",
      "               accuracy                           0.52      9271\n",
      "              macro avg       0.42      0.37      0.36      9271\n",
      "           weighted avg       0.49      0.52      0.46      9271\n",
      "\n"
     ]
    },
    {
     "name": "stderr",
     "output_type": "stream",
     "text": [
      "C:\\Users\\Nelson\\anaconda3\\lib\\site-packages\\sklearn\\metrics\\_classification.py:1248: UndefinedMetricWarning: Precision and F-score are ill-defined and being set to 0.0 in labels with no predicted samples. Use `zero_division` parameter to control this behavior.\n",
      "  _warn_prf(average, modifier, msg_start, len(result))\n"
     ]
    }
   ],
   "source": [
    "print(\"Relatório de classificação para Arapir: \\n\", classification_report(y_test_maceio, prediction_maceio)) "
   ]
  },
  {
   "cell_type": "markdown",
   "metadata": {},
   "source": [
    "## Avaliação de modelo para Arapiraca\n"
   ]
  },
  {
   "cell_type": "code",
   "execution_count": 20,
   "metadata": {},
   "outputs": [
    {
     "name": "stdout",
     "output_type": "stream",
     "text": [
      "Predito                  HOSPITALIZADO  ISOLAMENTO DOMICILIAR  RECUPERADO  \\\n",
      "Real                                                                        \n",
      "HOSPITALIZADO                        0                    158          33   \n",
      "ISOLAMENTO DOMICILIAR               20                   4893        1011   \n",
      "RECUPERADO                           6                   2475         528   \n",
      "ÓBITO                                2                     33           5   \n",
      "ÓBITO POR OUTRAS CAUSAS              0                      1           0   \n",
      "\n",
      "Predito                  ÓBITO  \n",
      "Real                            \n",
      "HOSPITALIZADO                0  \n",
      "ISOLAMENTO DOMICILIAR        0  \n",
      "RECUPERADO                   1  \n",
      "ÓBITO                      105  \n",
      "ÓBITO POR OUTRAS CAUSAS      0  \n"
     ]
    },
    {
     "name": "stderr",
     "output_type": "stream",
     "text": [
      "C:\\Users\\Nelson\\anaconda3\\lib\\site-packages\\sklearn\\metrics\\_classification.py:1248: UndefinedMetricWarning: Precision and F-score are ill-defined and being set to 0.0 in labels with no predicted samples. Use `zero_division` parameter to control this behavior.\n",
      "  _warn_prf(average, modifier, msg_start, len(result))\n",
      "C:\\Users\\Nelson\\anaconda3\\lib\\site-packages\\sklearn\\metrics\\_classification.py:1248: UndefinedMetricWarning: Precision and F-score are ill-defined and being set to 0.0 in labels with no predicted samples. Use `zero_division` parameter to control this behavior.\n",
      "  _warn_prf(average, modifier, msg_start, len(result))\n"
     ]
    },
    {
     "name": "stdout",
     "output_type": "stream",
     "text": [
      "Relatório de classificação: \n",
      "                          precision    recall  f1-score   support\n",
      "\n",
      "          HOSPITALIZADO       0.00      0.00      0.00       191\n",
      "  ISOLAMENTO DOMICILIAR       0.65      0.83      0.73      5924\n",
      "             RECUPERADO       0.33      0.18      0.23      3010\n",
      "                  ÓBITO       0.99      0.72      0.84       145\n",
      "ÓBITO POR OUTRAS CAUSAS       0.00      0.00      0.00         1\n",
      "\n",
      "               accuracy                           0.60      9271\n",
      "              macro avg       0.39      0.35      0.36      9271\n",
      "           weighted avg       0.54      0.60      0.55      9271\n",
      "\n"
     ]
    },
    {
     "name": "stderr",
     "output_type": "stream",
     "text": [
      "C:\\Users\\Nelson\\anaconda3\\lib\\site-packages\\sklearn\\metrics\\_classification.py:1248: UndefinedMetricWarning: Precision and F-score are ill-defined and being set to 0.0 in labels with no predicted samples. Use `zero_division` parameter to control this behavior.\n",
      "  _warn_prf(average, modifier, msg_start, len(result))\n"
     ]
    }
   ],
   "source": [
    "#print(\"Acurácia: \", accuracy_score(y_test_arapiraca,prediction_arapiraca))  \n",
    "print (pd.crosstab(y_test_arapiraca, prediction_arapiraca, rownames=['Real'], colnames=['Predito'], margins= False)) \n",
    "print(\"Relatório de classificação: \\n\", classification_report(y_test_arapiraca, prediction_arapiraca)) "
   ]
  },
  {
   "cell_type": "markdown",
   "metadata": {},
   "source": [
    "## Testando validação cruzada"
   ]
  },
  {
   "cell_type": "code",
   "execution_count": 21,
   "metadata": {},
   "outputs": [
    {
     "name": "stdout",
     "output_type": "stream",
     "text": [
      "Maceió: 0.4507165973185391\n",
      "Arapiraca: 0.6459546925566343\n"
     ]
    }
   ],
   "source": [
    "# TESTANDO A VALIDAÇÃO CRUZADA PARA MACEIÓ E ARAPIRACA\n",
    "\n",
    "model_maceio = MLPClassifier(hidden_layer_sizes=(25, 25), max_iter=200, random_state=42)\n",
    "model_maceio.fit(X_train_maceio, y_train_maceio)\n",
    "print(\"Maceió:\", model_maceio.score(X_train_maceio, y_train_maceio))  \n",
    "\n",
    "model_arapiraca = MLPClassifier(hidden_layer_sizes=(25, 25), max_iter=200, random_state=42)\n",
    "model_arapiraca.fit(X_train_arapiraca, y_train_arapiraca)\n",
    "print(\"Arapiraca:\", model_arapiraca.score(X_train_arapiraca, y_train_arapiraca))  \n",
    "\n"
   ]
  },
  {
   "cell_type": "code",
   "execution_count": 22,
   "metadata": {},
   "outputs": [
    {
     "name": "stderr",
     "output_type": "stream",
     "text": [
      "C:\\Users\\Nelson\\anaconda3\\lib\\site-packages\\sklearn\\model_selection\\_split.py:666: UserWarning: The least populated class in y has only 1 members, which is less than n_splits=10.\n",
      "  warnings.warn((\"The least populated class in y has only %d\"\n"
     ]
    },
    {
     "name": "stdout",
     "output_type": "stream",
     "text": [
      "Maceió: [0.51132686 0.50855294 0.50947758 0.50947758 0.50947758 0.51317614\n",
      " 0.50762829 0.50809061 0.45862228 0.50947758]\n"
     ]
    },
    {
     "name": "stderr",
     "output_type": "stream",
     "text": [
      "C:\\Users\\Nelson\\anaconda3\\lib\\site-packages\\sklearn\\model_selection\\_split.py:666: UserWarning: The least populated class in y has only 1 members, which is less than n_splits=10.\n",
      "  warnings.warn((\"The least populated class in y has only %d\"\n"
     ]
    },
    {
     "name": "stdout",
     "output_type": "stream",
     "text": [
      "Arapiraca: [0.64678687 0.55755895 0.64678687 0.64586223 0.64493759 0.64724919\n",
      " 0.64724919 0.64817383 0.64678687 0.6430883 ]\n"
     ]
    }
   ],
   "source": [
    "# CROSS VAL SCORE faz a validação cruzada e para cada validação ele calcula a acurácia de cada um\n",
    " \n",
    "\n",
    "scores_maceio = cross_val_score(model_maceio, X_train_maceio, y_train_maceio, cv=10)\n",
    "print(\"Maceió:\",scores_maceio)   \n",
    "\n",
    "scores_arapiraca = cross_val_score(model_arapiraca, X_train_arapiraca, y_train_arapiraca, cv=10)\n",
    "print(\"Arapiraca:\",scores_arapiraca) \n"
   ]
  },
  {
   "cell_type": "markdown",
   "metadata": {},
   "source": [
    "## Verificação do balanceamento dos dados"
   ]
  },
  {
   "cell_type": "code",
   "execution_count": 23,
   "metadata": {},
   "outputs": [],
   "source": [
    "from sklearn.cluster import KMeans   \n",
    "import matplotlib.pyplot as plt"
   ]
  },
  {
   "cell_type": "code",
   "execution_count": 24,
   "metadata": {},
   "outputs": [
    {
     "data": {
      "text/plain": [
       "Index(['IDADE', 'SEXO', 'Municipio', 'classificacao ', 'Comorbidades',\n",
       "       'Situacao', 'rotulo_comorbidades'],\n",
       "      dtype='object')"
      ]
     },
     "execution_count": 24,
     "metadata": {},
     "output_type": "execute_result"
    }
   ],
   "source": [
    "covid_maceio.columns"
   ]
  },
  {
   "cell_type": "code",
   "execution_count": 25,
   "metadata": {},
   "outputs": [],
   "source": [
    "arrayIDADE = covid_maceio['IDADE'].values \n",
    "arrayIDADE = arrayIDADE.reshape(-1,1)"
   ]
  },
  {
   "cell_type": "code",
   "execution_count": 26,
   "metadata": {},
   "outputs": [
    {
     "name": "stdout",
     "output_type": "stream",
     "text": [
      "[[43.08587156]\n",
      " [24.19445445]\n",
      " [65.29474708]]\n"
     ]
    }
   ],
   "source": [
    "arrayIDADE = covid_maceio['IDADE'].values \n",
    "arrayIDADE = arrayIDADE.reshape(-1,1)\n",
    "kmeansTx = KMeans(n_clusters=3).fit(arrayIDADE)\n",
    "centroidsIDADE = kmeansTx.cluster_centers_\n",
    "print(centroidsIDADE)"
   ]
  },
  {
   "cell_type": "code",
   "execution_count": 37,
   "metadata": {},
   "outputs": [
    {
     "data": {
      "text/plain": [
       "Text(0.5, 0, 'Idade')"
      ]
     },
     "execution_count": 37,
     "metadata": {},
     "output_type": "execute_result"
    },
    {
     "data": {
      "image/png": "[encoded data removed]",
      "text/plain": [
       "<Figure size 432x288 with 1 Axes>"
      ]
     },
     "metadata": {
      "needs_background": "light"
     },
     "output_type": "display_data"
    }
   ],
   "source": [
    "plt.scatter(arrayIDADE, covid_maceio.index, c= kmeansTx.labels_.astype(float), s=70, alpha=0.5) \n",
    "#plt.title(\"Idade\") \n",
    "plt.ylabel(\"Quantidade\") \n",
    "plt.xlabel(\"Idade\")"
   ]
  },
  {
   "cell_type": "code",
   "execution_count": 28,
   "metadata": {},
   "outputs": [
    {
     "name": "stdout",
     "output_type": "stream",
     "text": [
      "[[1.]\n",
      " [2.]]\n"
     ]
    },
    {
     "data": {
      "text/plain": [
       "Text(0.5, 1.0, 'SEXO')"
      ]
     },
     "execution_count": 28,
     "metadata": {},
     "output_type": "execute_result"
    },
    {
     "data": {
      "image/png": "[encoded data removed]",
      "text/plain": [
       "<Figure size 432x288 with 1 Axes>"
      ]
     },
     "metadata": {
      "needs_background": "light"
     },
     "output_type": "display_data"
    }
   ],
   "source": [
    "arraySEXO = covid_maceio['SEXO'].values \n",
    "arraySEXO = arraySEXO.reshape(-1,1)\n",
    "kmeansSEXO = KMeans(n_clusters=2).fit(arraySEXO)\n",
    "centroidsSEXO = kmeansSEXO.cluster_centers_\n",
    "print(centroidsSEXO) \n",
    "\n",
    "plt.scatter(arraySEXO, covid_maceio.index, c= kmeansTx.labels_.astype(float), s=70, alpha=0.5) \n",
    "plt.title(\"SEXO\")"
   ]
  },
  {
   "cell_type": "code",
   "execution_count": 29,
   "metadata": {},
   "outputs": [
    {
     "ename": "KeyError",
     "evalue": "'classificacao'",
     "output_type": "error",
     "traceback": [
      "\u001b[1;31m---------------------------------------------------------------------------\u001b[0m",
      "\u001b[1;31mKeyError\u001b[0m                                  Traceback (most recent call last)",
      "\u001b[1;32m~\\anaconda3\\lib\\site-packages\\pandas\\core\\indexes\\base.py\u001b[0m in \u001b[0;36mget_loc\u001b[1;34m(self, key, method, tolerance)\u001b[0m\n\u001b[0;32m   2645\u001b[0m             \u001b[1;32mtry\u001b[0m\u001b[1;33m:\u001b[0m\u001b[1;33m\u001b[0m\u001b[1;33m\u001b[0m\u001b[0m\n\u001b[1;32m-> 2646\u001b[1;33m                 \u001b[1;32mreturn\u001b[0m \u001b[0mself\u001b[0m\u001b[1;33m.\u001b[0m\u001b[0m_engine\u001b[0m\u001b[1;33m.\u001b[0m\u001b[0mget_loc\u001b[0m\u001b[1;33m(\u001b[0m\u001b[0mkey\u001b[0m\u001b[1;33m)\u001b[0m\u001b[1;33m\u001b[0m\u001b[1;33m\u001b[0m\u001b[0m\n\u001b[0m\u001b[0;32m   2647\u001b[0m             \u001b[1;32mexcept\u001b[0m \u001b[0mKeyError\u001b[0m\u001b[1;33m:\u001b[0m\u001b[1;33m\u001b[0m\u001b[1;33m\u001b[0m\u001b[0m\n",
      "\u001b[1;32mpandas\\_libs\\index.pyx\u001b[0m in \u001b[0;36mpandas._libs.index.IndexEngine.get_loc\u001b[1;34m()\u001b[0m\n",
      "\u001b[1;32mpandas\\_libs\\index.pyx\u001b[0m in \u001b[0;36mpandas._libs.index.IndexEngine.get_loc\u001b[1;34m()\u001b[0m\n",
      "\u001b[1;32mpandas\\_libs\\hashtable_class_helper.pxi\u001b[0m in \u001b[0;36mpandas._libs.hashtable.PyObjectHashTable.get_item\u001b[1;34m()\u001b[0m\n",
      "\u001b[1;32mpandas\\_libs\\hashtable_class_helper.pxi\u001b[0m in \u001b[0;36mpandas._libs.hashtable.PyObjectHashTable.get_item\u001b[1;34m()\u001b[0m\n",
      "\u001b[1;31mKeyError\u001b[0m: 'classificacao'",
      "\nDuring handling of the above exception, another exception occurred:\n",
      "\u001b[1;31mKeyError\u001b[0m                                  Traceback (most recent call last)",
      "\u001b[1;32m<ipython-input-29-14ec2c499e92>\u001b[0m in \u001b[0;36m<module>\u001b[1;34m\u001b[0m\n\u001b[1;32m----> 1\u001b[1;33m \u001b[0marraySEXO\u001b[0m \u001b[1;33m=\u001b[0m \u001b[0mcovid_maceio\u001b[0m\u001b[1;33m[\u001b[0m\u001b[1;34m'classificacao'\u001b[0m\u001b[1;33m]\u001b[0m\u001b[1;33m.\u001b[0m\u001b[0mvalues\u001b[0m\u001b[1;33m\u001b[0m\u001b[1;33m\u001b[0m\u001b[0m\n\u001b[0m\u001b[0;32m      2\u001b[0m \u001b[0marraySEXO\u001b[0m \u001b[1;33m=\u001b[0m \u001b[0marraySEXO\u001b[0m\u001b[1;33m.\u001b[0m\u001b[0mreshape\u001b[0m\u001b[1;33m(\u001b[0m\u001b[1;33m-\u001b[0m\u001b[1;36m1\u001b[0m\u001b[1;33m,\u001b[0m\u001b[1;36m1\u001b[0m\u001b[1;33m)\u001b[0m\u001b[1;33m\u001b[0m\u001b[1;33m\u001b[0m\u001b[0m\n\u001b[0;32m      3\u001b[0m \u001b[0mkmeansSEXO\u001b[0m \u001b[1;33m=\u001b[0m \u001b[0mKMeans\u001b[0m\u001b[1;33m(\u001b[0m\u001b[0mn_clusters\u001b[0m\u001b[1;33m=\u001b[0m\u001b[1;36m2\u001b[0m\u001b[1;33m)\u001b[0m\u001b[1;33m.\u001b[0m\u001b[0mfit\u001b[0m\u001b[1;33m(\u001b[0m\u001b[0marraySEXO\u001b[0m\u001b[1;33m)\u001b[0m\u001b[1;33m\u001b[0m\u001b[1;33m\u001b[0m\u001b[0m\n\u001b[0;32m      4\u001b[0m \u001b[0mcentroidsSEXO\u001b[0m \u001b[1;33m=\u001b[0m \u001b[0mkmeansSEXO\u001b[0m\u001b[1;33m.\u001b[0m\u001b[0mcluster_centers_\u001b[0m\u001b[1;33m\u001b[0m\u001b[1;33m\u001b[0m\u001b[0m\n\u001b[0;32m      5\u001b[0m \u001b[0mprint\u001b[0m\u001b[1;33m(\u001b[0m\u001b[0mcentroidsSEXO\u001b[0m\u001b[1;33m)\u001b[0m\u001b[1;33m\u001b[0m\u001b[1;33m\u001b[0m\u001b[0m\n",
      "\u001b[1;32m~\\anaconda3\\lib\\site-packages\\pandas\\core\\frame.py\u001b[0m in \u001b[0;36m__getitem__\u001b[1;34m(self, key)\u001b[0m\n\u001b[0;32m   2798\u001b[0m             \u001b[1;32mif\u001b[0m \u001b[0mself\u001b[0m\u001b[1;33m.\u001b[0m\u001b[0mcolumns\u001b[0m\u001b[1;33m.\u001b[0m\u001b[0mnlevels\u001b[0m \u001b[1;33m>\u001b[0m \u001b[1;36m1\u001b[0m\u001b[1;33m:\u001b[0m\u001b[1;33m\u001b[0m\u001b[1;33m\u001b[0m\u001b[0m\n\u001b[0;32m   2799\u001b[0m                 \u001b[1;32mreturn\u001b[0m \u001b[0mself\u001b[0m\u001b[1;33m.\u001b[0m\u001b[0m_getitem_multilevel\u001b[0m\u001b[1;33m(\u001b[0m\u001b[0mkey\u001b[0m\u001b[1;33m)\u001b[0m\u001b[1;33m\u001b[0m\u001b[1;33m\u001b[0m\u001b[0m\n\u001b[1;32m-> 2800\u001b[1;33m             \u001b[0mindexer\u001b[0m \u001b[1;33m=\u001b[0m \u001b[0mself\u001b[0m\u001b[1;33m.\u001b[0m\u001b[0mcolumns\u001b[0m\u001b[1;33m.\u001b[0m\u001b[0mget_loc\u001b[0m\u001b[1;33m(\u001b[0m\u001b[0mkey\u001b[0m\u001b[1;33m)\u001b[0m\u001b[1;33m\u001b[0m\u001b[1;33m\u001b[0m\u001b[0m\n\u001b[0m\u001b[0;32m   2801\u001b[0m             \u001b[1;32mif\u001b[0m \u001b[0mis_integer\u001b[0m\u001b[1;33m(\u001b[0m\u001b[0mindexer\u001b[0m\u001b[1;33m)\u001b[0m\u001b[1;33m:\u001b[0m\u001b[1;33m\u001b[0m\u001b[1;33m\u001b[0m\u001b[0m\n\u001b[0;32m   2802\u001b[0m                 \u001b[0mindexer\u001b[0m \u001b[1;33m=\u001b[0m \u001b[1;33m[\u001b[0m\u001b[0mindexer\u001b[0m\u001b[1;33m]\u001b[0m\u001b[1;33m\u001b[0m\u001b[1;33m\u001b[0m\u001b[0m\n",
      "\u001b[1;32m~\\anaconda3\\lib\\site-packages\\pandas\\core\\indexes\\base.py\u001b[0m in \u001b[0;36mget_loc\u001b[1;34m(self, key, method, tolerance)\u001b[0m\n\u001b[0;32m   2646\u001b[0m                 \u001b[1;32mreturn\u001b[0m \u001b[0mself\u001b[0m\u001b[1;33m.\u001b[0m\u001b[0m_engine\u001b[0m\u001b[1;33m.\u001b[0m\u001b[0mget_loc\u001b[0m\u001b[1;33m(\u001b[0m\u001b[0mkey\u001b[0m\u001b[1;33m)\u001b[0m\u001b[1;33m\u001b[0m\u001b[1;33m\u001b[0m\u001b[0m\n\u001b[0;32m   2647\u001b[0m             \u001b[1;32mexcept\u001b[0m \u001b[0mKeyError\u001b[0m\u001b[1;33m:\u001b[0m\u001b[1;33m\u001b[0m\u001b[1;33m\u001b[0m\u001b[0m\n\u001b[1;32m-> 2648\u001b[1;33m                 \u001b[1;32mreturn\u001b[0m \u001b[0mself\u001b[0m\u001b[1;33m.\u001b[0m\u001b[0m_engine\u001b[0m\u001b[1;33m.\u001b[0m\u001b[0mget_loc\u001b[0m\u001b[1;33m(\u001b[0m\u001b[0mself\u001b[0m\u001b[1;33m.\u001b[0m\u001b[0m_maybe_cast_indexer\u001b[0m\u001b[1;33m(\u001b[0m\u001b[0mkey\u001b[0m\u001b[1;33m)\u001b[0m\u001b[1;33m)\u001b[0m\u001b[1;33m\u001b[0m\u001b[1;33m\u001b[0m\u001b[0m\n\u001b[0m\u001b[0;32m   2649\u001b[0m         \u001b[0mindexer\u001b[0m \u001b[1;33m=\u001b[0m \u001b[0mself\u001b[0m\u001b[1;33m.\u001b[0m\u001b[0mget_indexer\u001b[0m\u001b[1;33m(\u001b[0m\u001b[1;33m[\u001b[0m\u001b[0mkey\u001b[0m\u001b[1;33m]\u001b[0m\u001b[1;33m,\u001b[0m \u001b[0mmethod\u001b[0m\u001b[1;33m=\u001b[0m\u001b[0mmethod\u001b[0m\u001b[1;33m,\u001b[0m \u001b[0mtolerance\u001b[0m\u001b[1;33m=\u001b[0m\u001b[0mtolerance\u001b[0m\u001b[1;33m)\u001b[0m\u001b[1;33m\u001b[0m\u001b[1;33m\u001b[0m\u001b[0m\n\u001b[0;32m   2650\u001b[0m         \u001b[1;32mif\u001b[0m \u001b[0mindexer\u001b[0m\u001b[1;33m.\u001b[0m\u001b[0mndim\u001b[0m \u001b[1;33m>\u001b[0m \u001b[1;36m1\u001b[0m \u001b[1;32mor\u001b[0m \u001b[0mindexer\u001b[0m\u001b[1;33m.\u001b[0m\u001b[0msize\u001b[0m \u001b[1;33m>\u001b[0m \u001b[1;36m1\u001b[0m\u001b[1;33m:\u001b[0m\u001b[1;33m\u001b[0m\u001b[1;33m\u001b[0m\u001b[0m\n",
      "\u001b[1;32mpandas\\_libs\\index.pyx\u001b[0m in \u001b[0;36mpandas._libs.index.IndexEngine.get_loc\u001b[1;34m()\u001b[0m\n",
      "\u001b[1;32mpandas\\_libs\\index.pyx\u001b[0m in \u001b[0;36mpandas._libs.index.IndexEngine.get_loc\u001b[1;34m()\u001b[0m\n",
      "\u001b[1;32mpandas\\_libs\\hashtable_class_helper.pxi\u001b[0m in \u001b[0;36mpandas._libs.hashtable.PyObjectHashTable.get_item\u001b[1;34m()\u001b[0m\n",
      "\u001b[1;32mpandas\\_libs\\hashtable_class_helper.pxi\u001b[0m in \u001b[0;36mpandas._libs.hashtable.PyObjectHashTable.get_item\u001b[1;34m()\u001b[0m\n",
      "\u001b[1;31mKeyError\u001b[0m: 'classificacao'"
     ]
    }
   ],
   "source": [
    "arraySEXO = covid_maceio['classificacao'].values \n",
    "arraySEXO = arraySEXO.reshape(-1,1)\n",
    "kmeansSEXO = KMeans(n_clusters=2).fit(arraySEXO)\n",
    "centroidsSEXO = kmeansSEXO.cluster_centers_\n",
    "print(centroidsSEXO) "
   ]
  },
  {
   "cell_type": "code",
   "execution_count": null,
   "metadata": {},
   "outputs": [
    {
     "data": {
      "text/plain": [
       "array(['RECUPERADO', 'ISOLAMENTO DOMICILIAR', 'ÓBITO', ..., 'RECUPERADO',\n",
       "       'RECUPERADO', 'ISOLAMENTO DOMICILIAR'], dtype=object)"
      ]
     },
     "execution_count": 62,
     "metadata": {},
     "output_type": "execute_result"
    }
   ],
   "source": [
    "covid_maceio['Situacao'].values"
   ]
  },
  {
   "cell_type": "code",
   "execution_count": null,
   "metadata": {},
   "outputs": [
    {
     "data": {
      "text/html": [
       "<div>\n",
       "<style scoped>\n",
       "    .dataframe tbody tr th:only-of-type {\n",
       "        vertical-align: middle;\n",
       "    }\n",
       "\n",
       "    .dataframe tbody tr th {\n",
       "        vertical-align: top;\n",
       "    }\n",
       "\n",
       "    .dataframe thead th {\n",
       "        text-align: right;\n",
       "    }\n",
       "</style>\n",
       "<table border=\"1\" class=\"dataframe\">\n",
       "  <thead>\n",
       "    <tr style=\"text-align: right;\">\n",
       "      <th></th>\n",
       "      <th>IDADE</th>\n",
       "      <th>SEXO</th>\n",
       "      <th>Municipio</th>\n",
       "      <th>classificacao</th>\n",
       "      <th>Comorbidades</th>\n",
       "      <th>Situacao</th>\n",
       "      <th>rotulo_comorbidades</th>\n",
       "    </tr>\n",
       "  </thead>\n",
       "  <tbody>\n",
       "    <tr>\n",
       "      <th>166133</th>\n",
       "      <td>23</td>\n",
       "      <td>2</td>\n",
       "      <td>MACEIÓ</td>\n",
       "      <td>CONFIRMADO</td>\n",
       "      <td>SEM COMORBIDADE</td>\n",
       "      <td>RECUPERADO</td>\n",
       "      <td>365</td>\n",
       "    </tr>\n",
       "    <tr>\n",
       "      <th>29170</th>\n",
       "      <td>46</td>\n",
       "      <td>2</td>\n",
       "      <td>MACEIÓ</td>\n",
       "      <td>CONFIRMADO</td>\n",
       "      <td>SEM COMORBIDADE</td>\n",
       "      <td>ISOLAMENTO DOMICILIAR</td>\n",
       "      <td>365</td>\n",
       "    </tr>\n",
       "    <tr>\n",
       "      <th>150346</th>\n",
       "      <td>44</td>\n",
       "      <td>2</td>\n",
       "      <td>MACEIÓ</td>\n",
       "      <td>CONFIRMADO</td>\n",
       "      <td>OBESIDADE</td>\n",
       "      <td>ÓBITO</td>\n",
       "      <td>331</td>\n",
       "    </tr>\n",
       "    <tr>\n",
       "      <th>98867</th>\n",
       "      <td>48</td>\n",
       "      <td>2</td>\n",
       "      <td>MACEIÓ</td>\n",
       "      <td>CONFIRMADO</td>\n",
       "      <td>SEM COMORBIDADE</td>\n",
       "      <td>ISOLAMENTO DOMICILIAR</td>\n",
       "      <td>365</td>\n",
       "    </tr>\n",
       "    <tr>\n",
       "      <th>161402</th>\n",
       "      <td>73</td>\n",
       "      <td>2</td>\n",
       "      <td>MACEIÓ</td>\n",
       "      <td>CONFIRMADO</td>\n",
       "      <td>HAS</td>\n",
       "      <td>ÓBITO</td>\n",
       "      <td>270</td>\n",
       "    </tr>\n",
       "  </tbody>\n",
       "</table>\n",
       "</div>"
      ],
      "text/plain": [
       "        IDADE SEXO Municipio classificacao      Comorbidades  \\\n",
       "166133     23    2    MACEIÓ     CONFIRMADO  SEM COMORBIDADE   \n",
       "29170      46    2    MACEIÓ     CONFIRMADO  SEM COMORBIDADE   \n",
       "150346     44    2    MACEIÓ     CONFIRMADO        OBESIDADE   \n",
       "98867      48    2    MACEIÓ     CONFIRMADO  SEM COMORBIDADE   \n",
       "161402     73    2    MACEIÓ     CONFIRMADO              HAS   \n",
       "\n",
       "                     Situacao  rotulo_comorbidades  \n",
       "166133             RECUPERADO                  365  \n",
       "29170   ISOLAMENTO DOMICILIAR                  365  \n",
       "150346                  ÓBITO                  331  \n",
       "98867   ISOLAMENTO DOMICILIAR                  365  \n",
       "161402                  ÓBITO                  270  "
      ]
     },
     "execution_count": 60,
     "metadata": {},
     "output_type": "execute_result"
    }
   ],
   "source": [
    "covid_maceio.head()"
   ]
  },
  {
   "cell_type": "code",
   "execution_count": null,
   "metadata": {},
   "outputs": [],
   "source": []
  },
  {
   "cell_type": "code",
   "execution_count": null,
   "metadata": {},
   "outputs": [],
   "source": []
  }
 ],
 "metadata": {
  "interpreter": {
   "hash": "97e09c7f4d57e9b6158d374608e3f9215509a120d4cacbc9adf1401aa538b42e"
  },
  "kernelspec": {
   "display_name": "Python 3.8.3 64-bit ('base': conda)",
   "name": "python3"
  },
  "language_info": {
   "codemirror_mode": {
    "name": "ipython",
    "version": 3
   },
   "file_extension": ".py",
   "mimetype": "text/x-python",
   "name": "python",
   "nbconvert_exporter": "python",
   "pygments_lexer": "ipython3",
   "version": "3.8.3"
  }
 },
 "nbformat": 4,
 "nbformat_minor": 4
}
