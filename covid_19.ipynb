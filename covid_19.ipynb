{
 "cells": [
  {
   "cell_type": "code",
   "execution_count": 5,
   "metadata": {},
   "outputs": [],
   "source": [
    "#Bibliotecas utilizadas\r\n",
    "import pandas as pd \r\n",
    "from sklearn.model_selection import train_test_split  \r\n",
    "from sklearn.neighbors import KNeighborsClassifier \r\n",
    "import matplotlib.pyplot as plt \r\n",
    "from sklearn import preprocessing \r\n",
    "from sklearn.metrics import classification_report"
   ]
  },
  {
   "cell_type": "code",
   "execution_count": null,
   "metadata": {},
   "outputs": [],
   "source": [
    "#carregando dados \r\n",
    "covid_alagoas = pd.read_excel(\"covid_alagoas.xlsx\")  "
   ]
  },
  {
   "cell_type": "code",
   "execution_count": null,
   "metadata": {},
   "outputs": [],
   "source": [
    "#Exibição do dataset carregado\r\n",
    "covid_alagoas.head() "
   ]
  },
  {
   "cell_type": "markdown",
   "metadata": {},
   "source": [
    "## Tratamento dos dados"
   ]
  },
  {
   "cell_type": "code",
   "execution_count": null,
   "metadata": {},
   "outputs": [],
   "source": [
    "# excluindo colunas que não serão utilizadas \r\n",
    "del covid_alagoas[\"Unnamed: 0\"] \r\n",
    "del covid_alagoas[\"Data do Óbito (Caso haja)\"]\"] \r\n",
    "\r\n",
    "# Renomeando colunas\r\n",
    "covid_alagoas = covid_alagoas.rename(columns={'Situação do paciente confirmado (UTI, isolamento domiciliar, enfermaria) ?': 'Situacao'}) \r\n",
    "covid_alagoas = covid_alagoas.rename(columns={'MUNICÍPIO DE RESIDÊNCIA': 'Municipio'})    \r\n",
    "\r\n",
    "#Onde tem NaN na coluna de comorbidades está sendo substituído por sem comorbidade\r\n",
    "covid_alagoas['Comorbidades'] = covid_alagoas.Comorbidades.fillna('SEM COMORBIDADE')\r\n",
    "\r\n",
    "# A coluna de SEXO está sendo rotulada como 1 para masculina e 2 para feminino\r\n",
    "covid_alagoas.loc[covid_alagoas.SEXO == 'M','SEXO'] = 1 \r\n",
    "covid_alagoas.loc[covid_alagoas.SEXO == 'F','SEXO'] = 2 \r\n",
    "covid_alagoas.loc[covid_alagoas.SEXO == 'Feminino','SEXO'] = 2"
   ]
  },
  {
   "cell_type": "markdown",
   "metadata": {},
   "source": [
    "### Selecionando os datasets\n"
   ]
  },
  {
   "cell_type": "code",
   "execution_count": null,
   "metadata": {},
   "outputs": [],
   "source": [
    "#Aqui está sendo filtrado os dados referentes ao município de Maceió e Arapiraca \r\n",
    "\r\n",
    "covid_maceio = covid_alagoas.loc[covid_alagoas['Municipio'] == \"MACEIÓ\"] \r\n",
    "covid_arapiraca = covid_alagoas.loc[covid_alagoas['Municipio'] == \"ARAPIRACA\"]"
   ]
  },
  {
   "cell_type": "code",
   "execution_count": null,
   "metadata": {},
   "outputs": [],
   "source": [
    "print(\"Tamanho dos dataframes:\",len(covid_arapiraca),len(covid_maceio)) "
   ]
  },
  {
   "cell_type": "code",
   "execution_count": null,
   "metadata": {},
   "outputs": [],
   "source": [
    "covid_alagoas.head()"
   ]
  },
  {
   "cell_type": "markdown",
   "metadata": {},
   "source": [
    "### Como há muitos mais dados de covid de Maceió em relação a Arapiraca, será selecionado uma amostra de mesmo tamanho de Arapiraca"
   ]
  },
  {
   "cell_type": "code",
   "execution_count": null,
   "metadata": {},
   "outputs": [],
   "source": [
    "covid_maceio = covid_maceio.sample(30901)"
   ]
  },
  {
   "cell_type": "code",
   "execution_count": null,
   "metadata": {},
   "outputs": [],
   "source": [
    "print(\"Tamanho dos dataframes agora:\",len(covid_arapiraca),len(covid_maceio)) "
   ]
  },
  {
   "cell_type": "code",
   "execution_count": null,
   "metadata": {},
   "outputs": [],
   "source": [
    "# criando dicionário (rotulando) as situações\r\n",
    "rotulo = dict(zip(covid_maceio.Situacao.unique(), covid_maceio.Situacao.unique()))   \r\n",
    "rotulo"
   ]
  },
  {
   "cell_type": "code",
   "execution_count": null,
   "metadata": {},
   "outputs": [],
   "source": [
    "#Rotulando comorbidades \r\n",
    "\r\n",
    "le = preprocessing.LabelEncoder() \r\n",
    "#le.fit_transform(covid_maceio['Comorbidades'].astype(str))\r\n",
    "rotulo_comorbidades = le.fit_transform(covid_maceio['Comorbidades'].astype(str))  \r\n",
    "covid_maceio['Comorbidades'] = le.fit_transform(covid_maceio['Comorbidades'].astype(str)) "
   ]
  },
  {
   "cell_type": "code",
   "execution_count": null,
   "metadata": {},
   "outputs": [],
   "source": [
    "rotulo_comorbidades.reshape(-1,1) \r\n",
    "# O array criado de rótulo de comorbidades será adicionado ao dataset \r\n",
    "covid_maceio.loc[:,'rotulo_comorbidades'] = rotulo_comorbidades"
   ]
  },
  {
   "cell_type": "code",
   "execution_count": null,
   "metadata": {},
   "outputs": [],
   "source": [
    "covid_maceio.head()"
   ]
  },
  {
   "cell_type": "code",
   "execution_count": null,
   "metadata": {},
   "outputs": [],
   "source": [
    "#selecionando as colunas que serão utilizadas para treinar e testar o modelo \r\n",
    "\r\n",
    "X = covid_maceio[['IDADE','SEXO','rotulo_comorbidades']]\r\n",
    "y = covid_maceio['Situacao']"
   ]
  },
  {
   "cell_type": "code",
   "execution_count": null,
   "metadata": {},
   "outputs": [],
   "source": [
    "#Selecionando conjunto de teste e treino, 70% doa dados serão usados para treino e 30% para teste \r\n",
    "\r\n",
    "#  70% / 30% \r\n",
    "X_train_1, X_test_1, y_train_1, y_test_1 = train_test_split(X, y,test_size=0.3, random_state=0) "
   ]
  },
  {
   "cell_type": "code",
   "execution_count": null,
   "metadata": {},
   "outputs": [],
   "source": [
    "knn = KNeighborsClassifier(n_neighbors = 5)  "
   ]
  },
  {
   "cell_type": "code",
   "execution_count": null,
   "metadata": {},
   "outputs": [],
   "source": [
    "_2 = knn.fit(X_train_1, y_train_1) "
   ]
  },
  {
   "cell_type": "code",
   "execution_count": null,
   "metadata": {},
   "outputs": [],
   "source": [
    "# Estimando acurácia\r\n",
    "\r\n",
    "est_2 = knn.score(X_test_1, y_test_1) \r\n",
    "est_2"
   ]
  },
  {
   "cell_type": "code",
   "execution_count": null,
   "metadata": {},
   "outputs": [],
   "source": [
    "#pd.unique(covid_maceio[['Comorbidades', 'rotulo_comorbidades']].values.ravel('K')) "
   ]
  },
  {
   "cell_type": "code",
   "execution_count": null,
   "metadata": {},
   "outputs": [],
   "source": [
    "#Predição com base na idade, sexo e comorbidade respectivamente\r\n",
    "prediction = knn.predict([[70,1,60]])\r\n",
    "print(\"Situação do paciente: \",rotulo[prediction[0]])"
   ]
  },
  {
   "cell_type": "markdown",
   "metadata": {},
   "source": [
    "### Trabalhando com o segundo dataset - Arapiraca "
   ]
  },
  {
   "cell_type": "code",
   "execution_count": null,
   "metadata": {},
   "outputs": [],
   "source": [
    "# criando dicionário (rotulando) as situações\r\n",
    "rotulo = dict(zip(covid_arapiraca.Situacao.unique(), covid_arapiraca.Situacao.unique()))   \r\n",
    "rotulo"
   ]
  },
  {
   "cell_type": "code",
   "execution_count": null,
   "metadata": {},
   "outputs": [],
   "source": [
    "rotulo_comorbidades.reshape(-1,1) \r\n",
    "# O array criado de rótulo de comorbidades será adicionado ao dataset \r\n",
    "covid_arapiraca.loc[:,'rotulo_comorbidades'] = rotulo_comorbidades"
   ]
  },
  {
   "cell_type": "code",
   "execution_count": null,
   "metadata": {},
   "outputs": [],
   "source": [
    "X_arapiraca = covid_arapiraca[['IDADE','SEXO','rotulo_comorbidades']]\r\n",
    "y_arapiraca = covid_arapiraca['Situacao']"
   ]
  },
  {
   "cell_type": "code",
   "execution_count": null,
   "metadata": {},
   "outputs": [],
   "source": [
    "#Selecionando conjunto de teste e treino\r\n",
    "#  70% / 30% \r\n",
    "X_train, X_test, y_train, y_test = train_test_split(X_arapiraca, y_arapiraca,test_size=0.3, random_state=0) "
   ]
  },
  {
   "cell_type": "code",
   "execution_count": null,
   "metadata": {},
   "outputs": [],
   "source": [
    "knn = KNeighborsClassifier(n_neighbors = 5)  \r\n",
    "treino = knn.fit(X_train, y_train) "
   ]
  },
  {
   "cell_type": "code",
   "execution_count": null,
   "metadata": {},
   "outputs": [],
   "source": [
    "# acurácia\r\n",
    "\r\n",
    "estimativa = knn.score(X_test, y_test) \r\n",
    "print(\"Acurácia: \",estimativa)"
   ]
  },
  {
   "cell_type": "code",
   "execution_count": null,
   "metadata": {},
   "outputs": [],
   "source": [
    "#pd.unique(covid_arapiraca[['Comorbidades', 'rotulo_comorbidades']].values.ravel()) "
   ]
  },
  {
   "cell_type": "code",
   "execution_count": null,
   "metadata": {},
   "outputs": [],
   "source": [
    "#Predição com base na idade, sexo e comorbidade respectivamente\r\n",
    "prediction = knn.predict([[70,1,60]])\r\n",
    "print(\"Situação do paciente: \",rotulo[prediction[0]])"
   ]
  },
  {
   "cell_type": "code",
   "execution_count": null,
   "metadata": {},
   "outputs": [],
   "source": []
  },
  {
   "cell_type": "code",
   "execution_count": null,
   "metadata": {},
   "outputs": [],
   "source": []
  },
  {
   "cell_type": "code",
   "execution_count": null,
   "metadata": {},
   "outputs": [],
   "source": []
  }
 ],
 "metadata": {
  "interpreter": {
   "hash": "97e09c7f4d57e9b6158d374608e3f9215509a120d4cacbc9adf1401aa538b42e"
  },
  "kernelspec": {
   "display_name": "Python 3",
   "language": "python",
   "name": "python3"
  },
  "language_info": {
   "codemirror_mode": {
    "name": "ipython",
    "version": 3
   },
   "file_extension": ".py",
   "mimetype": "text/x-python",
   "name": "python",
   "nbconvert_exporter": "python",
   "pygments_lexer": "ipython3",
   "version": "3.8.3"
  }
 },
 "nbformat": 4,
 "nbformat_minor": 4
}
